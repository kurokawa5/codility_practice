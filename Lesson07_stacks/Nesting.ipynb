{
  "nbformat": 4,
  "nbformat_minor": 0,
  "metadata": {
    "colab": {
      "provenance": [],
      "collapsed_sections": [],
      "authorship_tag": "ABX9TyO00NdxKBNUQ4SjKYS6uVui",
      "include_colab_link": true
    },
    "kernelspec": {
      "name": "python3",
      "display_name": "Python 3"
    },
    "language_info": {
      "name": "python"
    }
  },
  "cells": [
    {
      "cell_type": "markdown",
      "metadata": {
        "id": "view-in-github",
        "colab_type": "text"
      },
      "source": [
        "<a href=\"https://colab.research.google.com/github/kurokawa5/codility_practice/blob/main/Lesson07_stacks/Nesting.ipynb\" target=\"_parent\"><img src=\"https://colab.research.google.com/assets/colab-badge.svg\" alt=\"Open In Colab\"/></a>"
      ]
    },
    {
      "cell_type": "code",
      "execution_count": 10,
      "metadata": {
        "id": "MsV4pcx7ghka"
      },
      "outputs": [],
      "source": [
        "#S = \"(()(())())\"\n",
        "S = \"())\""
      ]
    },
    {
      "cell_type": "code",
      "source": [
        "parentheses = 0\n",
        "for item in S:\n",
        "    if item == \"(\":\n",
        "        parentheses += 1\n",
        "    else:\n",
        "        parentheses -= 1\n",
        "        if parentheses < 0:\n",
        "            print(0) \n",
        "  \n",
        "if parentheses == 0:\n",
        "    print(1)\n",
        "else:\n",
        "    print(0)"
      ],
      "metadata": {
        "colab": {
          "base_uri": "https://localhost:8080/"
        },
        "id": "UfbTKXOYl-uv",
        "outputId": "d9552779-3ee5-48fe-ecef-dafe4414a83b"
      },
      "execution_count": 11,
      "outputs": [
        {
          "output_type": "stream",
          "name": "stdout",
          "text": [
            "0\n",
            "0\n"
          ]
        }
      ]
    },
    {
      "cell_type": "code",
      "source": [
        "# you can write to stdout for debugging purposes, e.g.\n",
        "# print(\"this is a debug message\")\n",
        "\n",
        "def solution(S):\n",
        "    # write your code in Python 3.8.10\n",
        "    parentheses = 0\n",
        "    for item in S:\n",
        "        if item == \"(\":\n",
        "            parentheses += 1\n",
        "        else:\n",
        "            parentheses -= 1\n",
        "            if parentheses < 0:\n",
        "                return 0\n",
        "\n",
        "    if parentheses == 0:\n",
        "        return 1\n",
        "    else:\n",
        "        return 0"
      ],
      "metadata": {
        "id": "2imZJh6zmTaE"
      },
      "execution_count": 12,
      "outputs": []
    }
  ]
}