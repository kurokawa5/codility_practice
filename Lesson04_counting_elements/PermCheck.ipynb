{
  "nbformat": 4,
  "nbformat_minor": 0,
  "metadata": {
    "colab": {
      "provenance": [],
      "authorship_tag": "ABX9TyOoP5bEx7pKEcvSFdOfOiLM",
      "include_colab_link": true
    },
    "kernelspec": {
      "name": "python3",
      "display_name": "Python 3"
    },
    "language_info": {
      "name": "python"
    }
  },
  "cells": [
    {
      "cell_type": "markdown",
      "metadata": {
        "id": "view-in-github",
        "colab_type": "text"
      },
      "source": [
        "<a href=\"https://colab.research.google.com/github/kurokawa5/codility_practice/blob/main/Lesson04_counting_elements/PermCheck.ipynb\" target=\"_parent\"><img src=\"https://colab.research.google.com/assets/colab-badge.svg\" alt=\"Open In Colab\"/></a>"
      ]
    },
    {
      "cell_type": "code",
      "execution_count": 36,
      "metadata": {
        "id": "LSqAQGM7f7ln"
      },
      "outputs": [],
      "source": [
        "A = [4, 1, 3, 2]\n",
        "#A = [4, 1, 3]"
      ]
    },
    {
      "cell_type": "code",
      "source": [
        "A.extend(list(range(1, len(A)+1)))"
      ],
      "metadata": {
        "id": "yxqiO71viH-x"
      },
      "execution_count": 37,
      "outputs": []
    },
    {
      "cell_type": "code",
      "source": [
        "A"
      ],
      "metadata": {
        "colab": {
          "base_uri": "https://localhost:8080/"
        },
        "id": "UQvMuwnkiIQf",
        "outputId": "b76e9912-4d19-41b4-f1d8-ea9dd4f0c5ce"
      },
      "execution_count": 38,
      "outputs": [
        {
          "output_type": "execute_result",
          "data": {
            "text/plain": [
              "[4, 1, 3, 2, 1, 2, 3, 4]"
            ]
          },
          "metadata": {},
          "execution_count": 38
        }
      ]
    },
    {
      "cell_type": "code",
      "source": [
        "xor = 0"
      ],
      "metadata": {
        "id": "P8zWhnLMiYLt"
      },
      "execution_count": 39,
      "outputs": []
    },
    {
      "cell_type": "code",
      "source": [
        "for val in A: \n",
        "    print('val', val)  \n",
        "    print('xor before', xor)\n",
        "    xor = xor ^ val\n",
        "    print('xor after', xor)\n",
        "if(xor == 0): print(1)    \n",
        "else: print(0) "
      ],
      "metadata": {
        "colab": {
          "base_uri": "https://localhost:8080/"
        },
        "id": "G7lO-cmmifp3",
        "outputId": "459073b2-2c53-479a-e197-6c6e20cb5f7c"
      },
      "execution_count": 40,
      "outputs": [
        {
          "output_type": "stream",
          "name": "stdout",
          "text": [
            "val 4\n",
            "xor before 0\n",
            "xor after 4\n",
            "val 1\n",
            "xor before 4\n",
            "xor after 5\n",
            "val 3\n",
            "xor before 5\n",
            "xor after 6\n",
            "val 2\n",
            "xor before 6\n",
            "xor after 4\n",
            "val 1\n",
            "xor before 4\n",
            "xor after 5\n",
            "val 2\n",
            "xor before 5\n",
            "xor after 7\n",
            "val 3\n",
            "xor before 7\n",
            "xor after 4\n",
            "val 4\n",
            "xor before 4\n",
            "xor after 0\n",
            "1\n"
          ]
        }
      ]
    },
    {
      "cell_type": "code",
      "source": [
        "# you can write to stdout for debugging purposes, e.g.\n",
        "# print(\"this is a debug message\")\n",
        "\n",
        "def solution(A):\n",
        "    # write your code in Python 3.8.10\n",
        "    A.extend(list(range(1, len(A)+1)))\n",
        "    xor = 0\n",
        "\n",
        "    for val in A: \n",
        "        xor = xor ^ val\n",
        "    if(xor == 0): return 1    \n",
        "    else: return 0 "
      ],
      "metadata": {
        "id": "t-tKopoailXP"
      },
      "execution_count": 40,
      "outputs": []
    },
    {
      "cell_type": "code",
      "source": [],
      "metadata": {
        "id": "Ijkm3RJHk3se"
      },
      "execution_count": 40,
      "outputs": []
    }
  ]
}