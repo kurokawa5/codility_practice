{
  "nbformat": 4,
  "nbformat_minor": 0,
  "metadata": {
    "colab": {
      "provenance": [],
      "authorship_tag": "ABX9TyOMsCT0oIHyiXAHk3wW3GrK",
      "include_colab_link": true
    },
    "kernelspec": {
      "name": "python3",
      "display_name": "Python 3"
    },
    "language_info": {
      "name": "python"
    }
  },
  "cells": [
    {
      "cell_type": "markdown",
      "metadata": {
        "id": "view-in-github",
        "colab_type": "text"
      },
      "source": [
        "<a href=\"https://colab.research.google.com/github/kurokawa5/codility_practice/blob/main/Lesson04_counting_elements/FrogRiverOne.ipynb\" target=\"_parent\"><img src=\"https://colab.research.google.com/assets/colab-badge.svg\" alt=\"Open In Colab\"/></a>"
      ]
    },
    {
      "cell_type": "code",
      "execution_count": 13,
      "metadata": {
        "id": "s4bA4mBVS6J2"
      },
      "outputs": [],
      "source": [
        "X = 5\n",
        "A = [1, 3, 1, 4, 2, 3, 5, 4]"
      ]
    },
    {
      "cell_type": "code",
      "source": [
        "leaf_check, sum_step = [False] * X, 0\n",
        "leaf_check, sum_step"
      ],
      "metadata": {
        "colab": {
          "base_uri": "https://localhost:8080/"
        },
        "id": "IaVuVZLWS-3T",
        "outputId": "700309ae-1147-4453-95c0-576c56df71b5"
      },
      "execution_count": 14,
      "outputs": [
        {
          "output_type": "execute_result",
          "data": {
            "text/plain": [
              "([False, False, False, False, False], 0)"
            ]
          },
          "metadata": {},
          "execution_count": 14
        }
      ]
    },
    {
      "cell_type": "code",
      "source": [
        "for sec, fall in enumerate(A):\n",
        "    print(sec, fall)\n",
        "    if(fall > X): continue\n",
        "    if(not(leaf_check[fall-1])):\n",
        "        leaf_check[fall-1] = True\n",
        "        sum_step += 1\n",
        "        if(sum_step == X): print(sec) \n",
        "    print(-1)"
      ],
      "metadata": {
        "colab": {
          "base_uri": "https://localhost:8080/"
        },
        "id": "DnX2A77rXWSF",
        "outputId": "dd9d1cb9-6c43-4971-bf99-81bbeb5d76b0"
      },
      "execution_count": 15,
      "outputs": [
        {
          "output_type": "stream",
          "name": "stdout",
          "text": [
            "0 1\n",
            "-1\n",
            "1 3\n",
            "-1\n",
            "2 1\n",
            "-1\n",
            "3 4\n",
            "-1\n",
            "4 2\n",
            "-1\n",
            "5 3\n",
            "-1\n",
            "6 5\n",
            "6\n",
            "-1\n",
            "7 4\n",
            "-1\n"
          ]
        }
      ]
    },
    {
      "cell_type": "code",
      "source": [
        "# you can write to stdout for debugging purposes, e.g.\n",
        "# print(\"this is a debug message\")\n",
        "\n",
        "def solution(X, A):\n",
        "    # write your code in Python 3.8.10\n",
        "    leaf_check, sum_step = [False] * X, 0\n",
        "    for sec, fall in enumerate(A):\n",
        "        if(fall > X):\n",
        "            continue\n",
        "        if(not(leaf_check[fall-1])):\n",
        "            leaf_check[fall-1] = True\n",
        "            sum_step += 1\n",
        "            if(sum_step == X): return sec \n",
        "    return -1"
      ],
      "metadata": {
        "id": "4h7e4e6xX674"
      },
      "execution_count": 16,
      "outputs": []
    }
  ]
}