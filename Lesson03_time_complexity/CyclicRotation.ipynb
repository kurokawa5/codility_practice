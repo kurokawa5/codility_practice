{
  "nbformat": 4,
  "nbformat_minor": 0,
  "metadata": {
    "colab": {
      "provenance": [],
      "collapsed_sections": [],
      "authorship_tag": "ABX9TyMJY/rCGaVAJGYi7HiTBlvn",
      "include_colab_link": true
    },
    "kernelspec": {
      "name": "python3",
      "display_name": "Python 3"
    },
    "language_info": {
      "name": "python"
    }
  },
  "cells": [
    {
      "cell_type": "markdown",
      "metadata": {
        "id": "view-in-github",
        "colab_type": "text"
      },
      "source": [
        "<a href=\"https://colab.research.google.com/github/kurokawa5/codility_practice/blob/main/Lesson03_time_complexity/CyclicRotation.ipynb\" target=\"_parent\"><img src=\"https://colab.research.google.com/assets/colab-badge.svg\" alt=\"Open In Colab\"/></a>"
      ]
    },
    {
      "cell_type": "code",
      "execution_count": null,
      "metadata": {
        "colab": {
          "base_uri": "https://localhost:8080/"
        },
        "id": "8_ZXE6f0cbje",
        "outputId": "150a2aed-7083-4720-9de1-d3b017761a93"
      },
      "outputs": [
        {
          "name": "stdout",
          "output_type": "stream",
          "text": [
            "3\n"
          ]
        }
      ],
      "source": [
        "A =  [3, 8, 9, 7, 6] \n",
        "K = int(input())"
      ]
    },
    {
      "cell_type": "code",
      "source": [
        "if not A:\n",
        "  print(A)"
      ],
      "metadata": {
        "id": "obiQBk9tfBJt"
      },
      "execution_count": null,
      "outputs": []
    },
    {
      "cell_type": "code",
      "source": [
        "if set(A) == 1:\n",
        "    print(A)"
      ],
      "metadata": {
        "id": "ChEsQDNmfB0H"
      },
      "execution_count": null,
      "outputs": []
    },
    {
      "cell_type": "code",
      "source": [
        "set(A)"
      ],
      "metadata": {
        "colab": {
          "base_uri": "https://localhost:8080/"
        },
        "id": "95iQsno7fxMf",
        "outputId": "9b890e25-a5b3-4a9f-dc75-8eba31a5f2ba"
      },
      "execution_count": null,
      "outputs": [
        {
          "output_type": "execute_result",
          "data": {
            "text/plain": [
              "{3, 6, 7, 8, 9}"
            ]
          },
          "metadata": {},
          "execution_count": 19
        }
      ]
    },
    {
      "cell_type": "code",
      "source": [
        "len_A = len(A)\n",
        "K = K % len_A\n",
        "print(len_A)\n",
        "print(K)"
      ],
      "metadata": {
        "colab": {
          "base_uri": "https://localhost:8080/"
        },
        "id": "yHiPFAI7fzOK",
        "outputId": "deef5181-3961-483e-e6ba-7e0359745991"
      },
      "execution_count": null,
      "outputs": [
        {
          "output_type": "stream",
          "name": "stdout",
          "text": [
            "5\n",
            "3\n"
          ]
        }
      ]
    },
    {
      "cell_type": "code",
      "source": [
        "if K == len_A or K == 0:\n",
        "    print(A)"
      ],
      "metadata": {
        "id": "EQ5oCQgjgK7f"
      },
      "execution_count": null,
      "outputs": []
    },
    {
      "cell_type": "code",
      "source": [
        "n = len_A - K\n",
        "A_a = A[:n]\n",
        "A_b = A[n:]\n",
        "A_merged = A_b + A_a"
      ],
      "metadata": {
        "id": "VrhbpZiTgiFJ"
      },
      "execution_count": null,
      "outputs": []
    },
    {
      "cell_type": "code",
      "source": [
        "A_merged"
      ],
      "metadata": {
        "colab": {
          "base_uri": "https://localhost:8080/"
        },
        "id": "V8MOqZMahw1_",
        "outputId": "e0ad9ffd-f05f-4aee-fff7-3fe137bc57cb"
      },
      "execution_count": null,
      "outputs": [
        {
          "output_type": "execute_result",
          "data": {
            "text/plain": [
              "[9, 7, 6, 3, 8]"
            ]
          },
          "metadata": {},
          "execution_count": 23
        }
      ]
    },
    {
      "cell_type": "code",
      "source": [
        "# you can write to stdout for debugging purposes, e.g.\n",
        "# print(\"this is a debug message\")\n",
        "\n",
        "def solution(A, K):\n",
        "    # write your code in Python 3.8.10\n",
        "    if not A:\n",
        "        return A\n",
        "    if set(A) == 1:\n",
        "        return A\n",
        "    \n",
        "    len_A = len(A)\n",
        "    K = K % len_A\n",
        "    if K == 0 or K == len_A:\n",
        "        return A\n",
        "    \n",
        "    n = len_A - K\n",
        "    A_a = A[:n]\n",
        "    A_b = A[n:]\n",
        "    A_merged = A_b + A_a\n",
        "    return  A_merged"
      ],
      "metadata": {
        "id": "oHH27645hykC"
      },
      "execution_count": null,
      "outputs": []
    }
  ]
}