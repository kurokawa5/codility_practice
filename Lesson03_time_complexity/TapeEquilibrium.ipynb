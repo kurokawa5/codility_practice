{
  "nbformat": 4,
  "nbformat_minor": 0,
  "metadata": {
    "colab": {
      "provenance": [],
      "authorship_tag": "ABX9TyOgRq9KMelQPuRfsCZ34o0K",
      "include_colab_link": true
    },
    "kernelspec": {
      "name": "python3",
      "display_name": "Python 3"
    },
    "language_info": {
      "name": "python"
    }
  },
  "cells": [
    {
      "cell_type": "markdown",
      "metadata": {
        "id": "view-in-github",
        "colab_type": "text"
      },
      "source": [
        "<a href=\"https://colab.research.google.com/github/kurokawa5/codility_practice/blob/main/Lesson03_time_complexity/TapeEquilibrium.ipynb\" target=\"_parent\"><img src=\"https://colab.research.google.com/assets/colab-badge.svg\" alt=\"Open In Colab\"/></a>"
      ]
    },
    {
      "cell_type": "code",
      "execution_count": 24,
      "metadata": {
        "id": "10eCmjcxIeU9"
      },
      "outputs": [],
      "source": [
        " A = [3, 1, 2, 4, 3]"
      ]
    },
    {
      "cell_type": "code",
      "source": [
        "sum_front, sum_back = 0, sum(A)\n",
        "sum_front, sum_back"
      ],
      "metadata": {
        "colab": {
          "base_uri": "https://localhost:8080/"
        },
        "id": "NGvcnkU-IoFO",
        "outputId": "c4e3fa58-32b6-4382-9e75-2a5d2d32c4fa"
      },
      "execution_count": 25,
      "outputs": [
        {
          "output_type": "execute_result",
          "data": {
            "text/plain": [
              "(0, 13)"
            ]
          },
          "metadata": {},
          "execution_count": 25
        }
      ]
    },
    {
      "cell_type": "code",
      "source": [
        "diff_list = []"
      ],
      "metadata": {
        "id": "0QxZoN0NIxgH"
      },
      "execution_count": 26,
      "outputs": []
    },
    {
      "cell_type": "code",
      "source": [
        "for item in A:\n",
        "    sum_front += item\n",
        "    sum_back -= item\n",
        "    diff_list.append(abs(sum_front - sum_back))\n",
        "\n",
        "diff_list"
      ],
      "metadata": {
        "colab": {
          "base_uri": "https://localhost:8080/"
        },
        "id": "wNVQJzkGI4m9",
        "outputId": "861495bf-9df8-41dd-e7c7-ace6ec6b8fe4"
      },
      "execution_count": 27,
      "outputs": [
        {
          "output_type": "execute_result",
          "data": {
            "text/plain": [
              "[7, 5, 1, 7, 13]"
            ]
          },
          "metadata": {},
          "execution_count": 27
        }
      ]
    },
    {
      "cell_type": "code",
      "source": [
        "diff_list = diff_list[:-1]\n",
        "min(diff_list)"
      ],
      "metadata": {
        "colab": {
          "base_uri": "https://localhost:8080/"
        },
        "id": "gbCLbpQjJL7H",
        "outputId": "3fc963ab-46ab-4372-e758-2d8801b20615"
      },
      "execution_count": 28,
      "outputs": [
        {
          "output_type": "execute_result",
          "data": {
            "text/plain": [
              "1"
            ]
          },
          "metadata": {},
          "execution_count": 28
        }
      ]
    },
    {
      "cell_type": "code",
      "source": [
        "# you can write to stdout for debugging purposes, e.g.\n",
        "# print(\"this is a debug message\")\n",
        "\n",
        "def solution(A):\n",
        "    # write your code in Python 3.8.10\n",
        "    sum_front, sum_back = 0, sum(A)\n",
        "    diff_list = []\n",
        "\n",
        "    for item in A:\n",
        "        sum_front += item\n",
        "        sum_back -= item\n",
        "        diff_list.append(abs(sum_front - sum_back))\n",
        "\n",
        "    diff_list = diff_list[:-1]\n",
        "    return min(diff_list)\n"
      ],
      "metadata": {
        "id": "TjJ3tNMSK8EH"
      },
      "execution_count": 29,
      "outputs": []
    }
  ]
}