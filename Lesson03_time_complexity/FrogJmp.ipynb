{
  "nbformat": 4,
  "nbformat_minor": 0,
  "metadata": {
    "colab": {
      "provenance": [],
      "authorship_tag": "ABX9TyNiLpTn63xQ4qrrEmCk94cO",
      "include_colab_link": true
    },
    "kernelspec": {
      "name": "python3",
      "display_name": "Python 3"
    },
    "language_info": {
      "name": "python"
    }
  },
  "cells": [
    {
      "cell_type": "markdown",
      "metadata": {
        "id": "view-in-github",
        "colab_type": "text"
      },
      "source": [
        "<a href=\"https://colab.research.google.com/github/kurokawa5/codility_practice/blob/main/Lesson03_time_complexity/FrogJmp.ipynb\" target=\"_parent\"><img src=\"https://colab.research.google.com/assets/colab-badge.svg\" alt=\"Open In Colab\"/></a>"
      ]
    },
    {
      "cell_type": "code",
      "execution_count": 4,
      "metadata": {
        "id": "mOFHUgdnfIVL"
      },
      "outputs": [],
      "source": [
        "X = 10\n",
        "Y = 85\n",
        "D = 40"
      ]
    },
    {
      "cell_type": "code",
      "source": [
        "distance = Y - X\n",
        "if distance % D == 0:\n",
        "    print(distance//D) \n",
        "else:\n",
        "    print(distance//D + 1)"
      ],
      "metadata": {
        "colab": {
          "base_uri": "https://localhost:8080/"
        },
        "id": "2h_YNsGefRcd",
        "outputId": "ae66877d-44a2-416f-91ed-f2ae8f721cd8"
      },
      "execution_count": 3,
      "outputs": [
        {
          "output_type": "stream",
          "name": "stdout",
          "text": [
            "3\n"
          ]
        }
      ]
    },
    {
      "cell_type": "code",
      "source": [
        "# you can write to stdout for debugging purposes, e.g.\n",
        "# print(\"this is a debug message\")\n",
        "\n",
        "def solution(X, Y, D):\n",
        "    # write your code in Python 3.8.10\n",
        "    distance = Y - X\n",
        "    if distance % D == 0:\n",
        "        return distance//D\n",
        "    else:\n",
        "        return distance//D + 1"
      ],
      "metadata": {
        "id": "Nuea0vqYfa-F"
      },
      "execution_count": null,
      "outputs": []
    }
  ]
}