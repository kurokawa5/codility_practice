{
  "nbformat": 4,
  "nbformat_minor": 0,
  "metadata": {
    "colab": {
      "provenance": [],
      "authorship_tag": "ABX9TyMBnLqpQZKIUx6y22W/gIYn",
      "include_colab_link": true
    },
    "kernelspec": {
      "name": "python3",
      "display_name": "Python 3"
    },
    "language_info": {
      "name": "python"
    }
  },
  "cells": [
    {
      "cell_type": "markdown",
      "metadata": {
        "id": "view-in-github",
        "colab_type": "text"
      },
      "source": [
        "<a href=\"https://colab.research.google.com/github/kurokawa5/codility_practice/blob/main/Lesson02_arrays/OddOccurrencesInArray.ipynb\" target=\"_parent\"><img src=\"https://colab.research.google.com/assets/colab-badge.svg\" alt=\"Open In Colab\"/></a>"
      ]
    },
    {
      "cell_type": "code",
      "execution_count": 12,
      "metadata": {
        "colab": {
          "base_uri": "https://localhost:8080/"
        },
        "id": "K7rqHwggumVW",
        "outputId": "ff5f5075-2db7-4c23-dd08-bb1f1083536b"
      },
      "outputs": [
        {
          "output_type": "execute_result",
          "data": {
            "text/plain": [
              "[9, 3, 9, 3, 9, 7, 9]"
            ]
          },
          "metadata": {},
          "execution_count": 12
        }
      ],
      "source": [
        "A = [9, 3, 9, 3, 9, 7, 9]\n",
        "A"
      ]
    },
    {
      "cell_type": "code",
      "source": [
        "from collections import Counter"
      ],
      "metadata": {
        "id": "9x-V6C82XFmJ"
      },
      "execution_count": 13,
      "outputs": []
    },
    {
      "cell_type": "code",
      "source": [
        "count = Counter(A)\n",
        "count"
      ],
      "metadata": {
        "colab": {
          "base_uri": "https://localhost:8080/"
        },
        "id": "f--bx-nMXJMV",
        "outputId": "1598dfc2-43d7-4630-804c-12baf48801b2"
      },
      "execution_count": 14,
      "outputs": [
        {
          "output_type": "execute_result",
          "data": {
            "text/plain": [
              "Counter({9: 4, 3: 2, 7: 1})"
            ]
          },
          "metadata": {},
          "execution_count": 14
        }
      ]
    },
    {
      "cell_type": "code",
      "source": [
        "print(count.items())\n",
        "print(count.keys())\n",
        "print(count.values())"
      ],
      "metadata": {
        "colab": {
          "base_uri": "https://localhost:8080/"
        },
        "id": "chty-o5LXLIS",
        "outputId": "51ac395a-b3b6-4a5c-88aa-92afc1564ff3"
      },
      "execution_count": 15,
      "outputs": [
        {
          "output_type": "stream",
          "name": "stdout",
          "text": [
            "dict_items([(9, 4), (3, 2), (7, 1)])\n",
            "dict_keys([9, 3, 7])\n",
            "dict_values([4, 2, 1])\n"
          ]
        }
      ]
    },
    {
      "cell_type": "code",
      "source": [
        "for k,v in count.items():\n",
        "    if v % 2 != 0:\n",
        "      print(k) "
      ],
      "metadata": {
        "colab": {
          "base_uri": "https://localhost:8080/"
        },
        "id": "ftQvFYnZXUjM",
        "outputId": "3b2afc9c-d28f-455d-cf10-2059e4d3729b"
      },
      "execution_count": 16,
      "outputs": [
        {
          "output_type": "stream",
          "name": "stdout",
          "text": [
            "7\n"
          ]
        }
      ]
    },
    {
      "cell_type": "code",
      "source": [
        "# you can write to stdout for debugging purposes, e.g.\n",
        "# print(\"this is a debug message\")\n",
        "from collections import Counter\n",
        "\n",
        "def solution(A):\n",
        "    # write your code in Python 3.8.10\n",
        "    count = Counter(A)\n",
        "    for k,v in count.items():\n",
        "        if v % 2 != 0:\n",
        "            return k \n",
        "\n"
      ],
      "metadata": {
        "id": "7qIF9EqmYIR5"
      },
      "execution_count": 11,
      "outputs": []
    },
    {
      "cell_type": "code",
      "source": [],
      "metadata": {
        "id": "QtZFGOQ4cgij"
      },
      "execution_count": 16,
      "outputs": []
    }
  ]
}