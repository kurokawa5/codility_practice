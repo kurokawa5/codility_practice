{
  "nbformat": 4,
  "nbformat_minor": 0,
  "metadata": {
    "colab": {
      "provenance": [],
      "collapsed_sections": [],
      "authorship_tag": "ABX9TyPKL26zkOjKkDaEyUQwq4/1",
      "include_colab_link": true
    },
    "kernelspec": {
      "name": "python3",
      "display_name": "Python 3"
    },
    "language_info": {
      "name": "python"
    }
  },
  "cells": [
    {
      "cell_type": "markdown",
      "metadata": {
        "id": "view-in-github",
        "colab_type": "text"
      },
      "source": [
        "<a href=\"https://colab.research.google.com/github/kurokawa5/codility_practice/blob/main/Lesson01_iterations/BinaryGap.ipynb\" target=\"_parent\"><img src=\"https://colab.research.google.com/assets/colab-badge.svg\" alt=\"Open In Colab\"/></a>"
      ]
    },
    {
      "cell_type": "code",
      "execution_count": null,
      "metadata": {
        "colab": {
          "base_uri": "https://localhost:8080/"
        },
        "id": "nW1Jv-pBjiK4",
        "outputId": "b8c98156-f228-4a41-fad6-e1e08b5354ec"
      },
      "outputs": [
        {
          "name": "stdout",
          "output_type": "stream",
          "text": [
            "15\n"
          ]
        }
      ],
      "source": [
        "N = int(input())"
      ]
    },
    {
      "cell_type": "code",
      "source": [
        "binary_val = format(N, \"b\")\n",
        "binary_val"
      ],
      "metadata": {
        "colab": {
          "base_uri": "https://localhost:8080/",
          "height": 35
        },
        "id": "T6MO512mkCvX",
        "outputId": "9cfddecd-76d1-413d-d0a3-c41331f00410"
      },
      "execution_count": null,
      "outputs": [
        {
          "output_type": "execute_result",
          "data": {
            "text/plain": [
              "'1111'"
            ],
            "application/vnd.google.colaboratory.intrinsic+json": {
              "type": "string"
            }
          },
          "metadata": {},
          "execution_count": 2
        }
      ]
    },
    {
      "cell_type": "code",
      "source": [
        "splited_val = binary_val.split(\"1\")\n",
        "splited_val.pop()\n",
        "splited_val"
      ],
      "metadata": {
        "colab": {
          "base_uri": "https://localhost:8080/"
        },
        "id": "cn5tdjPZmGj6",
        "outputId": "7727511f-e640-49bc-e7be-426cc8c2c6b9"
      },
      "execution_count": null,
      "outputs": [
        {
          "output_type": "execute_result",
          "data": {
            "text/plain": [
              "['', '', '', '']"
            ]
          },
          "metadata": {},
          "execution_count": 3
        }
      ]
    },
    {
      "cell_type": "code",
      "source": [
        "max_val = 0\n",
        "for s in splited_val:\n",
        "    num = len(s)\n",
        "    if num > max_val:\n",
        "        max_val = num\n",
        "\n",
        "print(max_val)"
      ],
      "metadata": {
        "colab": {
          "base_uri": "https://localhost:8080/"
        },
        "id": "NOnA8li_nu2d",
        "outputId": "b2b2eced-ac9f-4595-fe9b-1ede4fea3549"
      },
      "execution_count": null,
      "outputs": [
        {
          "output_type": "stream",
          "name": "stdout",
          "text": [
            "0\n",
            "0\n",
            "0\n",
            "0\n"
          ]
        }
      ]
    },
    {
      "cell_type": "markdown",
      "source": [
        "[Pythonでlist型をlen()しようとしたら \"TypeError: 'int' object is not callable\"が出た話](https://qiita.com/kshin93/items/8031f28c759e2358c253)\n",
        "\n",
        "> google colabolatoryだからランタイムをリセットしないと一度作った変数はソース上削除しても保持されるのか。"
      ],
      "metadata": {
        "id": "1sTtX-nrv8Em"
      }
    }
  ]
}