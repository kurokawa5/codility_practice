{
  "nbformat": 4,
  "nbformat_minor": 0,
  "metadata": {
    "colab": {
      "provenance": [],
      "authorship_tag": "ABX9TyM1ABp/FUK7tWk+S++F0b9d",
      "include_colab_link": true
    },
    "kernelspec": {
      "name": "python3",
      "display_name": "Python 3"
    },
    "language_info": {
      "name": "python"
    }
  },
  "cells": [
    {
      "cell_type": "markdown",
      "metadata": {
        "id": "view-in-github",
        "colab_type": "text"
      },
      "source": [
        "<a href=\"https://colab.research.google.com/github/kurokawa5/codility_practice/blob/main/Lesson06_sorting/Distinct.ipynb\" target=\"_parent\"><img src=\"https://colab.research.google.com/assets/colab-badge.svg\" alt=\"Open In Colab\"/></a>"
      ]
    },
    {
      "cell_type": "code",
      "execution_count": 6,
      "metadata": {
        "id": "JWShfzmhr0RX"
      },
      "outputs": [],
      "source": [
        "A = [2, 1, 1, 2, 3, 1]\n"
      ]
    },
    {
      "cell_type": "code",
      "source": [
        "numset = set(A)\n",
        "for item in A:\n",
        "    numset.add(item)\n",
        "print(len(numset))"
      ],
      "metadata": {
        "colab": {
          "base_uri": "https://localhost:8080/"
        },
        "id": "uFnkQ_yuFzXQ",
        "outputId": "076c222a-2554-408d-fcf6-77167a43f206"
      },
      "execution_count": 7,
      "outputs": [
        {
          "output_type": "stream",
          "name": "stdout",
          "text": [
            "3\n"
          ]
        }
      ]
    },
    {
      "cell_type": "code",
      "source": [
        "numset2 = set(A)\n",
        "len(numset2)"
      ],
      "metadata": {
        "colab": {
          "base_uri": "https://localhost:8080/"
        },
        "id": "IW0WUzqOFfFB",
        "outputId": "ae162bf0-5236-4ce0-8f33-e373bb98ba2e"
      },
      "execution_count": 8,
      "outputs": [
        {
          "output_type": "execute_result",
          "data": {
            "text/plain": [
              "3"
            ]
          },
          "metadata": {},
          "execution_count": 8
        }
      ]
    },
    {
      "cell_type": "code",
      "source": [
        "# you can write to stdout for debugging purposes, e.g.\n",
        "# print(\"this is a debug message\")\n",
        "\n",
        "def solution(A):\n",
        "    # write your code in Python 3.8.10\n",
        "    numset = set(A)\n",
        "    return len(numset)"
      ],
      "metadata": {
        "id": "Alwta4wvFlyj"
      },
      "execution_count": 8,
      "outputs": []
    }
  ]
}