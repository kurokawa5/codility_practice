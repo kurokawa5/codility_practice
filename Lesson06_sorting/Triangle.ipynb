{
  "nbformat": 4,
  "nbformat_minor": 0,
  "metadata": {
    "colab": {
      "provenance": [],
      "authorship_tag": "ABX9TyOZY+pJVswl9YTCyzHZCJ63",
      "include_colab_link": true
    },
    "kernelspec": {
      "name": "python3",
      "display_name": "Python 3"
    },
    "language_info": {
      "name": "python"
    }
  },
  "cells": [
    {
      "cell_type": "markdown",
      "metadata": {
        "id": "view-in-github",
        "colab_type": "text"
      },
      "source": [
        "<a href=\"https://colab.research.google.com/github/kurokawa5/codility_practice/blob/main/Lesson06_sorting/Triangle.ipynb\" target=\"_parent\"><img src=\"https://colab.research.google.com/assets/colab-badge.svg\" alt=\"Open In Colab\"/></a>"
      ]
    },
    {
      "cell_type": "code",
      "source": [
        "A = [10, 2, 5, 1, 8, 20]"
      ],
      "metadata": {
        "id": "RZyeUYTidH9Q"
      },
      "execution_count": 7,
      "outputs": []
    },
    {
      "cell_type": "code",
      "execution_count": 8,
      "metadata": {
        "colab": {
          "base_uri": "https://localhost:8080/"
        },
        "id": "CxTjIfDTctc2",
        "outputId": "5d69459f-7689-4a09-e88a-151e3b2a0aeb"
      },
      "outputs": [
        {
          "output_type": "stream",
          "name": "stdout",
          "text": [
            "[1, 2, 5, 8, 10, 20]\n",
            "1\n",
            "0\n"
          ]
        }
      ],
      "source": [
        "A.sort()\n",
        "print(A)\n",
        "for i in range(1,len(A)-1):\n",
        "    if A[i] + A[i-1] > A[i+1]:\n",
        "        print(1)\n",
        "print(0) "
      ]
    },
    {
      "cell_type": "code",
      "source": [
        "# you can write to stdout for debugging purposes, e.g.\n",
        "# print(\"this is a debug message\")\n",
        "\n",
        "def solution(A):\n",
        "    # write your code in Python 3.8.10\n",
        "    A.sort()\n",
        "    for i in range(1,len(A)-1):\n",
        "        if A[i] + A[i-1] > A[i+1]:\n",
        "            return 1\n",
        "    return 0 "
      ],
      "metadata": {
        "id": "J6us3L_xdNq4"
      },
      "execution_count": 9,
      "outputs": []
    }
  ]
}