{
  "nbformat": 4,
  "nbformat_minor": 0,
  "metadata": {
    "colab": {
      "provenance": [],
      "authorship_tag": "ABX9TyOL9JzgB0uywOMyrPBHqR5r",
      "include_colab_link": true
    },
    "kernelspec": {
      "name": "python3",
      "display_name": "Python 3"
    },
    "language_info": {
      "name": "python"
    }
  },
  "cells": [
    {
      "cell_type": "markdown",
      "metadata": {
        "id": "view-in-github",
        "colab_type": "text"
      },
      "source": [
        "<a href=\"https://colab.research.google.com/github/kurokawa5/codility_practice/blob/main/Lesson06_sorting/MaxProductOfThree.ipynb\" target=\"_parent\"><img src=\"https://colab.research.google.com/assets/colab-badge.svg\" alt=\"Open In Colab\"/></a>"
      ]
    },
    {
      "cell_type": "code",
      "execution_count": 3,
      "metadata": {
        "id": "q7cvh8ISGU6g"
      },
      "outputs": [],
      "source": [
        "A = [-3, 1, 2, -2, 5, 6]"
      ]
    },
    {
      "cell_type": "code",
      "source": [
        "A.sort()\n",
        "max1 = A[-1] * A[-2] * A[-3]\n",
        "max2 = A[0] * A[1] * A[-1]\n",
        "\n",
        "if max1 > max2:\n",
        "    print(max1)\n",
        "else:\n",
        "    print(max2)"
      ],
      "metadata": {
        "colab": {
          "base_uri": "https://localhost:8080/"
        },
        "id": "NjJpXoJ8JAol",
        "outputId": "419efab7-eebb-4921-9993-c31444e880dc"
      },
      "execution_count": 4,
      "outputs": [
        {
          "output_type": "stream",
          "name": "stdout",
          "text": [
            "60\n"
          ]
        }
      ]
    },
    {
      "cell_type": "code",
      "source": [
        "# you can write to stdout for debugging purposes, e.g.\n",
        "# print(\"this is a debug message\")\n",
        "\n",
        "def solution(A):\n",
        "    # write your code in Python 3.8.10\n",
        "    A.sort()\n",
        "    max1 = A[-1] * A[-2] * A[-3]\n",
        "    max2 = A[0] * A[1] * A[-1]\n",
        "\n",
        "    if max1 > max2:\n",
        "        return max1\n",
        "    else:\n",
        "        return max2"
      ],
      "metadata": {
        "id": "37zHMMggJINa"
      },
      "execution_count": 5,
      "outputs": []
    }
  ]
}